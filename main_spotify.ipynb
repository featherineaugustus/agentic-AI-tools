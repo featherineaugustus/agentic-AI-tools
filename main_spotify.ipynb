{
 "cells": [
  {
   "cell_type": "markdown",
   "id": "536fa331-ea29-48f6-8553-2bf960a4ca57",
   "metadata": {},
   "source": [
    "# Pip install"
   ]
  },
  {
   "cell_type": "code",
   "execution_count": 1,
   "id": "831a5a4c-dbd6-4a97-a49d-5cf59d0a22e3",
   "metadata": {},
   "outputs": [],
   "source": [
    "# !pip install google-genai\n",
    "# !pip install google-generativeai"
   ]
  },
  {
   "cell_type": "markdown",
   "id": "f9a76fbf",
   "metadata": {},
   "source": [
    "# Load Gemini API"
   ]
  },
  {
   "cell_type": "code",
   "execution_count": 2,
   "id": "1bac135f-eceb-4e42-9ca2-cb6244263137",
   "metadata": {},
   "outputs": [
    {
     "name": "stdout",
     "output_type": "stream",
     "text": [
      "AI learns from data to identify patterns and make smart decisions or predictions.\n"
     ]
    }
   ],
   "source": [
    "import os\n",
    "from google import genai\n",
    "from google.genai import types\n",
    "\n",
    "GEMINI_KEY = os.environ.get(\"GOOGLE_API_KEY\")\n",
    "client = genai.Client(api_key=GEMINI_KEY)\n",
    "\n",
    "response = client.models.generate_content(\n",
    "    model=\"gemini-2.5-flash\", contents=\"Explain how AI works in a few words\"    \n",
    ")\n",
    "\n",
    "print(response.text)"
   ]
  },
  {
   "cell_type": "markdown",
   "id": "c70c13e4",
   "metadata": {},
   "source": [
    "# Get Spotify Token"
   ]
  },
  {
   "cell_type": "code",
   "execution_count": 3,
   "id": "ea99ecf0-e407-4886-b33e-60292e1800b2",
   "metadata": {},
   "outputs": [
    {
     "name": "stdout",
     "output_type": "stream",
     "text": [
      "Error\n"
     ]
    }
   ],
   "source": [
    "\"\"\"Get spotify token.\"\"\"\n",
    "\n",
    "import json\n",
    "import base64\n",
    "import requests\n",
    "\n",
    "CLIENT_ID = os.environ.get(\"CLIENT_ID\")\n",
    "CLIENT_SECRET = os.environ.get(\"CLIENT_SECRET\")\n",
    "\n",
    "auth_url = 'https://accounts.spotify.com/api/token'\n",
    "auth_header = base64.b64encode(f'{CLIENT_ID}:{CLIENT_SECRET}'.encode()).decode()\n",
    "\n",
    "headers = {\n",
    "    'Authorization': f'Basic {auth_header}',\n",
    "    'Content-Type': 'application/x-www-form-urlencoded'\n",
    "}\n",
    "\n",
    "data = {'grant_type': 'client_credentials'}\n",
    "response = requests.post(auth_url, headers=headers, data=data)\n",
    "\n",
    "if response.status_code == 200:\n",
    "    SPOTIFY_TOKEN = response.json()['access_token']\n",
    "else:\n",
    "    print(\"Error\")"
   ]
  },
  {
   "cell_type": "markdown",
   "id": "3e062e45",
   "metadata": {},
   "source": [
    "# Main"
   ]
  },
  {
   "cell_type": "code",
   "execution_count": null,
   "id": "c0ae7daf",
   "metadata": {},
   "outputs": [],
   "source": [
    "def get_top_tracks(artist_name: str):\n",
    "    headers = {'Authorization': f\"Bearer {SPOTIFY_TOKEN}\"}\n",
    "    params = {\"market\": \"US\"}\n",
    "\n",
    "    search_url = \"https://api.spotify.com/v1/search\"\n",
    "    search_headers = {\"Authorization\": f\"Bearer {SPOTIFY_TOKEN}\"}\n",
    "    search_params = {\"q\": artist_name, \"type\": \"artist\", \"limit\": 1}\n",
    "\n",
    "    res = requests.get(search_url, headers=search_headers, params=search_params)\n",
    "    artist_id = res.json()[\"artists\"][\"items\"][0][\"id\"]\n",
    "\n",
    "    top_tracks_res = requests.get(\n",
    "        url=f\"https://api.spotify.com/v1/artists/{artist_id}/top-tracks\",\n",
    "        headers=headers,\n",
    "        params=params\n",
    "    )\n",
    "    \n",
    "    results = []\n",
    "    top_tracks_res = top_tracks_res.json()\n",
    "    for item in top_tracks_res['tracks']:\n",
    "        results.append(item['name'])\n",
    "        \n",
    "    return str(results)"
   ]
  },
  {
   "cell_type": "code",
   "execution_count": null,
   "id": "2118f15d",
   "metadata": {},
   "outputs": [],
   "source": [
    "config = types.GenerateContentConfig(\n",
    "    tools=[get_top_tracks]\n",
    ")"
   ]
  },
  {
   "cell_type": "code",
   "execution_count": 56,
   "id": "d11ecdff",
   "metadata": {},
   "outputs": [
    {
     "name": "stdout",
     "output_type": "stream",
     "text": [
      "Here are Taylor Swift's top tracks: 'Cruel Summer', 'august', 'Style', 'cardigan', 'Blank Space', 'Lover', 'Fortnight (feat. Post Malone)', 'Shake It Off', 'Don’t Blame Me', 'I Don’t Wanna Live Forever (Fifty Shades Darker)'.\n"
     ]
    }
   ],
   "source": [
    "# Make the request\n",
    "response = client.models.generate_content(\n",
    "    model=\"gemini-2.5-flash\",\n",
    "    contents=\"Get the top hits for Taylor Swift\",\n",
    "    config=config,\n",
    ")\n",
    "\n",
    "print(response.text)"
   ]
  },
  {
   "cell_type": "code",
   "execution_count": 55,
   "id": "712e6f83",
   "metadata": {},
   "outputs": [
    {
     "name": "stdout",
     "output_type": "stream",
     "text": [
      "Here are JJ Lin's top hits: 不為誰而作的歌, 修煉愛情, 可惜沒如果, 關鍵詞, 那些你很冒險的夢, 她說, 交換餘生, 在月蝕裡抱緊我, 江南, and 手心的薔薇 (ft. 鄧紫棋).\n"
     ]
    }
   ],
   "source": [
    "# Make the request\n",
    "response = client.models.generate_content(\n",
    "    model=\"gemini-2.5-flash\",\n",
    "    contents=\"Get the top hits for JJ Lin\",\n",
    "    config=config,\n",
    ")\n",
    "\n",
    "print(response.text)"
   ]
  },
  {
   "cell_type": "code",
   "execution_count": 57,
   "id": "b9490ff0",
   "metadata": {},
   "outputs": [
    {
     "name": "stdout",
     "output_type": "stream",
     "text": [
      "Here are the top tracks for BTS: FAKE LOVE, My Universe, Dynamite, Permission to Dance - Live, Boy With Luv (feat. Halsey), Butter, Left and Right (Feat. Jung Kook of BTS), Run BTS, Life Goes On, DNA.\n"
     ]
    }
   ],
   "source": [
    "# Make the request\n",
    "response = client.models.generate_content(\n",
    "    model=\"gemini-2.5-flash\",\n",
    "    contents=\"Get the top hits for BTS\",\n",
    "    config=config,\n",
    ")\n",
    "\n",
    "print(response.text)"
   ]
  },
  {
   "cell_type": "code",
   "execution_count": 58,
   "id": "632ba539",
   "metadata": {},
   "outputs": [
    {
     "name": "stdout",
     "output_type": "stream",
     "text": [
      "Here are the top hits for B'Z: 擱淺, 晴天, 七里香, 告白氣球, 珊瑚海, 說好不哭, 說好的幸福呢, 楓, 青花瓷, 一路向北.\n"
     ]
    }
   ],
   "source": [
    "# Make the request\n",
    "response = client.models.generate_content(\n",
    "    model=\"gemini-2.5-flash\",\n",
    "    contents=\"Get the top hits for B'Z\",\n",
    "    config=config,\n",
    ")\n",
    "\n",
    "print(response.text)"
   ]
  },
  {
   "cell_type": "code",
   "execution_count": null,
   "id": "6839727a",
   "metadata": {},
   "outputs": [],
   "source": []
  }
 ],
 "metadata": {
  "kernelspec": {
   "display_name": "Python 3",
   "language": "python",
   "name": "python3"
  },
  "language_info": {
   "codemirror_mode": {
    "name": "ipython",
    "version": 3
   },
   "file_extension": ".py",
   "mimetype": "text/x-python",
   "name": "python",
   "nbconvert_exporter": "python",
   "pygments_lexer": "ipython3",
   "version": "3.11.9"
  }
 },
 "nbformat": 4,
 "nbformat_minor": 5
}
